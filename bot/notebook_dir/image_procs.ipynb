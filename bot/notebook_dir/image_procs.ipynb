{
 "cells": [
  {
   "cell_type": "code",
   "execution_count": 1,
   "metadata": {},
   "outputs": [
    {
     "name": "stdout",
     "output_type": "stream",
     "text": [
      "{\n",
      "  \"shell_port\": 51489,\n",
      "  \"iopub_port\": 51490,\n",
      "  \"stdin_port\": 51491,\n",
      "  \"control_port\": 51493,\n",
      "  \"hb_port\": 51492,\n",
      "  \"ip\": \"127.0.0.1\",\n",
      "  \"key\": \"696bec21-b849e7fd7cb034755f3c6496\",\n",
      "  \"transport\": \"tcp\",\n",
      "  \"signature_scheme\": \"hmac-sha256\",\n",
      "  \"kernel_name\": \"\"\n",
      "}\n",
      "\n",
      "Paste the above JSON into a file, and connect with:\n",
      "    $> jupyter <app> --existing <file>\n",
      "or, if you are local, you can connect with just:\n",
      "    $> jupyter <app> --existing kernel-f8f08b9d-d411-440b-8a03-398a4165204a.json\n",
      "or even just:\n",
      "    $> jupyter <app> --existing\n",
      "if this is the most recent Jupyter kernel you have started.\n"
     ]
    }
   ],
   "source": [
    "%connect_info"
   ]
  },
  {
   "cell_type": "code",
   "execution_count": 2,
   "metadata": {},
   "outputs": [
    {
     "data": {
      "text/plain": [
       "5"
      ]
     },
     "execution_count": 2,
     "metadata": {},
     "output_type": "execute_result"
    }
   ],
   "source": [
    "2+3"
   ]
  },
  {
   "cell_type": "code",
   "execution_count": 3,
   "metadata": {},
   "outputs": [
    {
     "data": {
      "text/plain": [
       "8"
      ]
     },
     "execution_count": 3,
     "metadata": {},
     "output_type": "execute_result"
    }
   ],
   "source": [
    "2*4\n"
   ]
  },
  {
   "cell_type": "code",
   "execution_count": 4,
   "metadata": {},
   "outputs": [
    {
     "name": "stdout",
     "output_type": "stream",
     "text": [
      "dada\n"
     ]
    }
   ],
   "source": [
    "print(\"dada\")"
   ]
  },
  {
   "cell_type": "code",
   "execution_count": 8,
   "metadata": {},
   "outputs": [],
   "source": [
    "from PIL import Image"
   ]
  },
  {
   "cell_type": "code",
   "execution_count": 7,
   "metadata": {},
   "outputs": [],
   "source": [
    "#some code"
   ]
  },
  {
   "cell_type": "code",
   "execution_count": 8,
   "metadata": {},
   "outputs": [],
   "source": [
    "logo = Image.open(\"c:\\\\temp\\\\IMG_6597.JPG\")\n",
    "logo = logo.resize((20,15), Image.ANTIALIAS)\n",
    "logo.save(\"c:\\\\temp\\\\icon.jpg\")"
   ]
  },
  {
   "cell_type": "code",
   "execution_count": 9,
   "metadata": {},
   "outputs": [],
   "source": [
    "def iconify(a,b,x,y):\n",
    "    logo = Image.open(a)\n",
    "    logo = logo.resize((x,y), Image.ANTIALIAS)\n",
    "    logo.save(b)"
   ]
  },
  {
   "cell_type": "code",
   "execution_count": 23,
   "metadata": {},
   "outputs": [],
   "source": [
    "iconify(\"c:\\\\temp\\\\a.JPG\",\"c:\\\\temp\\\\icon2.jpg\",20,20)"
   ]
  },
  {
   "cell_type": "code",
   "execution_count": null,
   "metadata": {},
   "outputs": [],
   "source": []
  },
  {
   "cell_type": "code",
   "execution_count": 387,
   "metadata": {},
   "outputs": [],
   "source": [
    "def diff(one,two,whereto):\n",
    "    from PIL import  Image\n",
    "    from PIL import  ImageChops\n",
    "    from PIL import  ImageStat\n",
    "    im1=Image.open(one)\n",
    "    im2=Image.open(two)\n",
    "    diff= ImageChops.difference(im1, im2)\n",
    "    print(diff)\n",
    "    stat = ImageStat.Stat(diff)\n",
    "    diff_ratio = sum(stat.mean) / (len(stat.mean) * 255)\n",
    "    print(diff_ratio * 100 )\n",
    "    if(diff_ratio*100>1):\n",
    "        im1.save(whereto)\n"
   ]
  },
  {
   "cell_type": "code",
   "execution_count": 384,
   "metadata": {},
   "outputs": [
    {
     "name": "stdout",
     "output_type": "stream",
     "text": [
      "<PIL.Image.Image image mode=RGB size=200x295 at 0x253C8342DF0>\n",
      "1.1396610169491526\n"
     ]
    }
   ],
   "source": [
    "diff(\"c:\\\\temp\\\\a.JPG\",\"c:\\\\temp\\\\b.jpg\",\"c:\\\\temp\\\\icon3.jpg\")"
   ]
  },
  {
   "cell_type": "code",
   "execution_count": 382,
   "metadata": {},
   "outputs": [
    {
     "name": "stdout",
     "output_type": "stream",
     "text": [
      "<PIL.Image.Image image mode=RGB size=1920x1080 at 0x253C7F58BE0>\n",
      "0.07318571976115548\n"
     ]
    }
   ],
   "source": []
  },
  {
   "cell_type": "code",
   "execution_count": 45,
   "metadata": {},
   "outputs": [
    {
     "name": "stdout",
     "output_type": "stream",
     "text": [
      "Collecting imgdupes\n",
      "  Downloading imgdupes-0.1.1.tar.gz (11 kB)\n",
      "Requirement already satisfied: future in c:\\users\\singh\\anaconda3\\lib\\site-packages (from imgdupes) (0.18.2)\n",
      "Collecting ImageHash\n",
      "  Downloading ImageHash-4.2.0-py2.py3-none-any.whl (295 kB)\n",
      "Requirement already satisfied: joblib in c:\\users\\singh\\anaconda3\\lib\\site-packages (from imgdupes) (0.16.0)\n"
     ]
    },
    {
     "name": "stderr",
     "output_type": "stream",
     "text": [
      "ERROR: Could not find a version that satisfies the requirement ngt (from imgdupes) (from versions: none)\n",
      "ERROR: No matching distribution found for ngt (from imgdupes)\n"
     ]
    }
   ],
   "source": [
    "!pip install imgdupes"
   ]
  },
  {
   "cell_type": "code",
   "execution_count": 386,
   "metadata": {},
   "outputs": [
    {
     "name": "stdout",
     "output_type": "stream",
     "text": [
      "<PIL.Image.Image image mode=RGB size=1920x1080 at 0x253C7C10850>\n",
      "0.5822609033325263\n"
     ]
    }
   ],
   "source": [
    "diff(\"C:\\\\projects\\\\data\\\\videos\\\\b\\\\B_134.jpg\",\"C:\\\\projects\\\\data\\\\videos\\\\b\\\\B_98.jpg\",\"C:\\\\projects\\\\data\\\\videos\\\\b_dedup\\\\B_1.jpg\")"
   ]
  },
  {
   "cell_type": "code",
   "execution_count": 388,
   "metadata": {},
   "outputs": [
    {
     "name": "stdout",
     "output_type": "stream",
     "text": [
      "<PIL.Image.Image image mode=RGB size=1920x1080 at 0x253C7D904C0>\n",
      "71.15434695997742\n"
     ]
    }
   ],
   "source": [
    "diff(\"C:\\\\projects\\\\data\\\\videos\\\\b\\\\B_216.jpg\",\"C:\\\\projects\\\\data\\\\videos\\\\b\\\\B_186.jpg\",\"C:\\\\projects\\\\data\\\\videos\\\\b_dedup\\\\B_216.jpg\")"
   ]
  },
  {
   "cell_type": "code",
   "execution_count": null,
   "metadata": {},
   "outputs": [],
   "source": []
  }
 ],
 "metadata": {
  "kernelspec": {
   "display_name": "Python 3",
   "language": "python",
   "name": "python3"
  },
  "language_info": {
   "codemirror_mode": {
    "name": "ipython",
    "version": 3
   },
   "file_extension": ".py",
   "mimetype": "text/x-python",
   "name": "python",
   "nbconvert_exporter": "python",
   "pygments_lexer": "ipython3",
   "version": "3.8.3"
  }
 },
 "nbformat": 4,
 "nbformat_minor": 4
}
